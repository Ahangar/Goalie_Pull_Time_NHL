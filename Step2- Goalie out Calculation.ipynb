{
 "cells": [
  {
   "cell_type": "code",
   "execution_count": 44,
   "id": "b1c6cdfb",
   "metadata": {},
   "outputs": [],
   "source": [
    "import pandas as pd\n",
    "import numpy as np\n",
    "from bs4 import BeautifulSoup\n",
    "import os\n",
    "import re\n",
    "import matplotlib.pyplot as plt\n"
   ]
  },
  {
   "cell_type": "code",
   "execution_count": 45,
   "id": "1415bd42",
   "metadata": {},
   "outputs": [],
   "source": [
    "import warnings\n",
    "warnings.filterwarnings('ignore')"
   ]
  },
  {
   "cell_type": "code",
   "execution_count": 46,
   "id": "2f32458f",
   "metadata": {},
   "outputs": [],
   "source": [
    "#determines who is ahead at a specific event (row) in the game\n",
    "def ahead_team(n_row,goals_all):\n",
    "    away_score=0\n",
    "    home_score=0\n",
    "    for idx,row in goals_all[goals_all['n_row']<n_row].iterrows():\n",
    "        if (row['description'].split(' ')[0]==row['away_team']):\n",
    "            away_score+=1\n",
    "        else:\n",
    "            home_score+=1\n",
    "    if (away_score>home_score):\n",
    "        return('away')\n",
    "    elif (away_score<home_score):\n",
    "        return('home')\n",
    "    else:\n",
    "        return('none')"
   ]
  },
  {
   "cell_type": "code",
   "execution_count": 47,
   "id": "61e968aa",
   "metadata": {},
   "outputs": [],
   "source": [
    "def get_goalie_pulls(df):\n",
    "    \n",
    "    #convert to total seconds to end of the game\n",
    "    df['total_sec']=df['minute'].astype(int)*60+df['second'].astype(int)\n",
    "    #deal with the format\n",
    "    df['n_row']=df['n_row'].apply(lambda x: int(x))\n",
    "    \n",
    "    #replace empty line cells with a G so they will not be mistaken for empty nets\n",
    "    df.loc[df['away_line'].isna(),'away_line']='G'\n",
    "    df.loc[df['home_line'].isna(),'home_line']='G'\n",
    "    \n",
    "    #save the game goals and who scored them\n",
    "    goals_all=df[df.event=='GOAL']\n",
    "    \n",
    "    #determining the events without a goalie by checking individual lines without G in team lines during the third period\n",
    "    goalie_out=df.loc[((-df['away_line'].str.contains('G'))|(-df['home_line'].str.contains('G')))&\n",
    "                     (df['total_sec']<360)&(df['period']==3)]\n",
    "    #check who is winning during the goalie out\n",
    "    goalie_out['winning']=goalie_out.n_row.apply(lambda x: ahead_team(x,goals_all))\n",
    "    \n",
    "    if len(goalie_out):\n",
    "        #delayed penalty\n",
    "        delayed_penalty=goalie_out[((goalie_out['home_line'].str.contains('G'))&(goalie_out.winning=='away'))|\n",
    "                                   ((goalie_out['away_line'].str.contains('G'))&(goalie_out.winning=='home'))]\n",
    "        if len(delayed_penalty):\n",
    "            goalie_out=goalie_out.drop(delayed_penalty.index)\n",
    "            if (len(goalie_out)==0):\n",
    "                return None\n",
    "            \n",
    "        \n",
    "        goalie_out_sec=goalie_out.total_sec.values[0]\n",
    "        \n",
    "\n",
    "        success=0\n",
    "        goal=goalie_out.loc[(goalie_out.event=='GOAL')]    \n",
    "        if len(goal):\n",
    "            if(goal['away_line'].str.contains('G').values[0] and \n",
    "               (goal.description.values[0].split(' ')[0]==goal.away_team.values[0])):\n",
    "                success=-1\n",
    "            elif(goal['home_line'].str.contains('G').values[0] and \n",
    "                 (goal.description.values[0].split(' ')[0]==goal.home_team.values[0])):\n",
    "                success=-1\n",
    "            else:\n",
    "                success=1\n",
    "                \n",
    "        return([goalie_out_sec,success])"
   ]
  },
  {
   "cell_type": "code",
   "execution_count": 48,
   "id": "9a24c7f3",
   "metadata": {
    "scrolled": true
   },
   "outputs": [
    {
     "name": "stdout",
     "output_type": "stream",
     "text": [
      "Wall time: 8min 20s\n"
     ]
    }
   ],
   "source": [
    "%%time\n",
    "pull_time=[]\n",
    "success=[]\n",
    "game=[]\n",
    "goal_number=[]\n",
    "\n",
    "for file in os.listdir('./data/game/'):    \n",
    "\n",
    "    game_data = pd.read_csv('./data/game/'+file)\n",
    "    #print(file)\n",
    "    \n",
    "    if get_goalie_pulls(game_data) is not None:\n",
    "        \n",
    "        \n",
    "        game_pull_time,game_success=get_goalie_pulls(game_data)\n",
    "    \n",
    "        pull_time.append(game_pull_time)\n",
    "        success.append(game_success)\n",
    "        game.append(file)\n",
    "        \n",
    "    #keep number of goals outside the last 6 minutes in the third period\n",
    "    goal_number.append(len(game_data[(game_data['event']=='GOAL')\n",
    "                                   &(game_data['period']==3)&(game_data['minute']>5)]))\n"
   ]
  },
  {
   "cell_type": "code",
   "execution_count": 50,
   "id": "2d0ebdfd",
   "metadata": {},
   "outputs": [],
   "source": [
    "#save the processed data\n",
    "pd.DataFrame(list(zip(game, pull_time,success)),\n",
    "                 columns =['game', 'total_sec','success']).to_csv('./data/processed/goalie_pull_data_2011_2021.csv',index=False)\n"
   ]
  },
  {
   "cell_type": "code",
   "execution_count": 51,
   "id": "180df6bd",
   "metadata": {},
   "outputs": [
    {
     "name": "stdout",
     "output_type": "stream",
     "text": [
      "Probablity of normal goal per second for two teams was 0.00141\n"
     ]
    }
   ],
   "source": [
    "print('Probablity of normal goal per second for two teams was',\n",
    "      round(np.sum(goal_number)/(14*60)/len(os.listdir('./data/game/')),5))"
   ]
  },
  {
   "cell_type": "code",
   "execution_count": null,
   "id": "3cbb81e3",
   "metadata": {},
   "outputs": [],
   "source": []
  }
 ],
 "metadata": {
  "kernelspec": {
   "display_name": "Python 3 (ipykernel)",
   "language": "python",
   "name": "python3"
  },
  "language_info": {
   "codemirror_mode": {
    "name": "ipython",
    "version": 3
   },
   "file_extension": ".py",
   "mimetype": "text/x-python",
   "name": "python",
   "nbconvert_exporter": "python",
   "pygments_lexer": "ipython3",
   "version": "3.7.12"
  }
 },
 "nbformat": 4,
 "nbformat_minor": 5
}
